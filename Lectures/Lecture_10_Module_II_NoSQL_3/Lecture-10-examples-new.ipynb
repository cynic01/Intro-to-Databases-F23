{
 "cells": [
  {
   "cell_type": "markdown",
   "metadata": {},
   "source": [
    "<style  type=\"text/css\"> \n",
    "cool {\n",
    "  width: 100px;\n",
    "  height: 100px;\n",
    "  background-color: red;\n",
    "  position: relative;\n",
    "  -webkit-animation-name: example; /* Safari 4.0 - 8.0 */\n",
    "  -webkit-animation-duration: 4s; /* Safari 4.0 - 8.0 */\n",
    "  -webkit-animation-iteration-count: infinite; /* Safari 4.0 - 8.0 */\n",
    "  animation-name: example;\n",
    "  animation-duration: 4s;\n",
    "  animation-iteration-count: infinite;\n",
    "}\n",
    "\n",
    "/* Safari 4.0 - 8.0 */\n",
    "@-webkit-keyframes example {\n",
    "  0%   {background-color:red; left:0px; top:0px;}\n",
    "  25%  {background-color:yellow; left:200px; top:0px;}\n",
    "  50%  {background-color:blue; left:200px; top:200px;}\n",
    "  75%  {background-color:green; left:0px; top:200px;}\n",
    "  100% {background-color:red; left:0px; top:0px;}\n",
    "}\n",
    "\n",
    "/* Standard syntax */\n",
    "@keyframes example {\n",
    "  0%   {background-color:red; left:0px; top:0px;}\n",
    "  25%  {background-color:yellow; left:200px; top:0px;}\n",
    "  50%  {background-color:blue; left:200px; top:200px;}\n",
    "  75%  {background-color:green; left:0px; top:200px;}\n",
    "  100% {background-color:red; left:0px; top:0px;}\n",
    "}\n",
    "\n",
    "\n",
    "}\n",
    "\n",
    "</style>"
   ]
  },
  {
   "cell_type": "markdown",
   "metadata": {},
   "source": [
    "<b><center>\n",
    "    <span style=\"font-size: 24pt; line-height: 1.2;\">COMS W4111: Introduction to Databases</span><br>\n",
    "    <span style=\"font-size: 24pt; line-height: 1.2;\">Section 002, Fall 2021</span><br>\n",
    "</center></b>\n",
    "<br>\n",
    "<i><center>\n",
    "    <span style=\"font-size: 20pt; line-height: 1.2;\">Homework 3A</span>\n",
    "<br><br>"
   ]
  },
  {
   "cell_type": "markdown",
   "metadata": {},
   "source": [
    "- Install the Neo4j python client library ```py2neo``` (__Note:__ Your output might be different)."
   ]
  },
  {
   "cell_type": "code",
   "execution_count": 3,
   "metadata": {},
   "outputs": [],
   "source": [
    "# %pip install py2neo"
   ]
  },
  {
   "cell_type": "markdown",
   "metadata": {},
   "source": [
    "- Using the credentials you defined when creating the Neo4j project and graph, test your ability to connect to the graph.\n",
    "\n",
    "\n",
    "- There is an [on-line tutorial](https://medium.com/@technologydata25/connect-neo4j-to-jupyter-notebook-c178f716d6d5) that may help."
   ]
  },
  {
   "cell_type": "code",
   "execution_count": 1,
   "metadata": {},
   "outputs": [],
   "source": [
    "from py2neo import Graph,Node,Relationship"
   ]
  },
  {
   "cell_type": "code",
   "execution_count": 2,
   "metadata": {},
   "outputs": [],
   "source": [
    "#\n",
    "# The bolt URL and neo4j should be the same for everyone.\n",
    "# Replace dbuserdbuser with the passsword you set when creating the graph.\n",
    "#\n",
    "graph = Graph(\"neo4j+s://ee1dcf05.databases.neo4j.io\", \n",
    "              auth=(\"neo4j\", \n",
    "                    \"vQ5ncmIjF5QP_Mxoyc3JfdZ1jdnHoORmcz8qFT02jJE\"))\n"
   ]
  },
  {
   "cell_type": "markdown",
   "metadata": {},
   "source": [
    "- Run the Movie DB setup to populate with data.<br><br>\n",
    "\n",
    "\n",
    "- On AuraDB, open the query console and enter ```:play start```<br><br>\n",
    "\n",
    "\n",
    "- Follow the instructions to create and query the Movie database (populate with data)."
   ]
  },
  {
   "cell_type": "code",
   "execution_count": 7,
   "metadata": {},
   "outputs": [],
   "source": [
    "#\n",
    "# The following is the query you entered above.\n",
    "#\n",
    "q = \"\"\"match (n1:Person {name: \"Madonna\"})-[r1:ACTED_IN]-(m)-[r2:DIRECTED]-(n2),\n",
    "        (m)-[r3:ACTED_IN]-(n3), (m3)-[r4:DIRECTED]-(n3)\n",
    "        return n1,r1,m,r2,n2,r3,n3,r4,m3\"\"\""
   ]
  },
  {
   "cell_type": "code",
   "execution_count": 8,
   "metadata": {},
   "outputs": [],
   "source": [
    "#\n",
    "# Run the query.\n",
    "#\n",
    "result=graph.run(q)"
   ]
  },
  {
   "cell_type": "code",
   "execution_count": 9,
   "metadata": {},
   "outputs": [
    {
     "data": {
      "text/plain": [
       "py2neo.cypher.Cursor"
      ]
     },
     "execution_count": 9,
     "metadata": {},
     "output_type": "execute_result"
    }
   ],
   "source": [
    "type(result)"
   ]
  },
  {
   "cell_type": "code",
   "execution_count": 10,
   "metadata": {},
   "outputs": [
    {
     "name": "stdout",
     "output_type": "stream",
     "text": [
      "<class 'py2neo.data.Node'> : {'born': 1954, 'name': 'Madonna'}\n",
      "<class 'py2neo.data.ACTED_IN'> : {'roles': ['\"All the Way\" Mae Mordabito']}\n",
      "<class 'py2neo.data.Node'> : {'tagline': 'Once in a lifetime you get a chance to do something different.', 'title': 'A League of Their Own', 'released': 1992}\n",
      "<class 'py2neo.data.DIRECTED'> : {}\n",
      "<class 'py2neo.data.Node'> : {'born': 1943, 'name': 'Penny Marshall'}\n",
      "<class 'py2neo.data.ACTED_IN'> : {'roles': ['Jimmy Dugan']}\n",
      "<class 'py2neo.data.Node'> : {'born': 1956, 'name': 'Tom Hanks'}\n",
      "<class 'py2neo.data.DIRECTED'> : {}\n",
      "<class 'py2neo.data.Node'> : {'tagline': 'In every life there comes a time when that thing you dream becomes that thing you do', 'title': 'That Thing You Do', 'released': 1996}\n"
     ]
    }
   ],
   "source": [
    "for r in result:\n",
    "    for x in r:\n",
    "        print(type(x), \":\", dict(x))"
   ]
  },
  {
   "cell_type": "code",
   "execution_count": null,
   "metadata": {},
   "outputs": [],
   "source": []
  }
 ],
 "metadata": {
  "kernelspec": {
   "display_name": "Python 3 (ipykernel)",
   "language": "python",
   "name": "python3"
  },
  "language_info": {
   "codemirror_mode": {
    "name": "ipython",
    "version": 3
   },
   "file_extension": ".py",
   "mimetype": "text/x-python",
   "name": "python",
   "nbconvert_exporter": "python",
   "pygments_lexer": "ipython3",
   "version": "3.11.4"
  }
 },
 "nbformat": 4,
 "nbformat_minor": 2
}
