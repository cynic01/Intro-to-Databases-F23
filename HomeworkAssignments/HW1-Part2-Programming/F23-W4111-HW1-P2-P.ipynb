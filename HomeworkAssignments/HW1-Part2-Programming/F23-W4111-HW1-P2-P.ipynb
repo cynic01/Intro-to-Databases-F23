{
 "cells": [
  {
   "cell_type": "markdown",
   "metadata": {},
   "source": [
    "<style  type=\"text/css\"> \n",
    "</style>\n",
    "\n",
    "<b><center>\n",
    "<span style=\"font-size: 24pt; line-height: 1.2\">\n",
    "COMS W4111: Introduction to Databases<br>Fall 2023, Section 2\n",
    "</span>\n",
    "</center></b>\n",
    "</span><br>\n",
    "<p>\n",
    "<i><center>\n",
    "<span style=\"font-size: 20pt; line-height: 1.2\">\n",
    "Homework 1, Part 2: Programming\n",
    "</span>\n",
    "</center></i>"
   ]
  },
  {
   "cell_type": "markdown",
   "metadata": {},
   "source": [
    "# Introduction"
   ]
  },
  {
   "cell_type": "markdown",
   "metadata": {},
   "source": [
    "This notebook contains HW1 Part 2 Programming. **Only those on the programming track should complete this part.** To ensure everything runs as expected, work on this notebook in Jupyter.\n",
    "\n",
    "Submission instructions:\n",
    "\n",
    "- You will submit **PDF and ZIP files** for this assignment. Gradescope will have two separate assignments for these.\n",
    "- For the PDF:\n",
    "    - The most reliable way to save as PDF is to go to your browser's menu bar and click `File -> Print`. **Switch the orientation to landscape mode**, and hit save.\n",
    "    - **MAKE SURE ALL YOUR WORK (CODE AND SCREENSHOTS) IS VISIBLE ON THE PDF. YOU WILL NOT GET CREDIT IF ANYTHING IS CUT OFF.** Reach out for troubleshooting.\n",
    "- For the ZIP:\n",
    "    - Zip the folder that contains this notebook, any screenshots, and the code you write.\n",
    "    - To avoid freezing Gradescope with too many files, when you finish this assignment, delete any unnecessary directories. Such directories include `venv`, `.idea`, and `.git`."
   ]
  },
  {
   "cell_type": "markdown",
   "metadata": {},
   "source": [
    "<hr style=\"height:2px;\">"
   ]
  },
  {
   "cell_type": "markdown",
   "metadata": {},
   "source": [
    "# Add Student Information"
   ]
  },
  {
   "cell_type": "code",
   "execution_count": 1,
   "metadata": {},
   "outputs": [
    {
     "name": "stdout",
     "output_type": "stream",
     "text": [
      "Edison Chen\n",
      "zc2738\n",
      "Programming\n"
     ]
    }
   ],
   "source": [
    "# Print your name, uni, and track below\n",
    "\n",
    "name = \"Edison Chen\"\n",
    "uni = \"zc2738\"\n",
    "track = \"Programming\"\n",
    "\n",
    "print(name)\n",
    "print(uni)\n",
    "print(track)"
   ]
  },
  {
   "cell_type": "markdown",
   "metadata": {},
   "source": [
    "<hr style=\"height:2px;\">"
   ]
  },
  {
   "cell_type": "markdown",
   "metadata": {},
   "source": [
    "# Setup"
   ]
  },
  {
   "cell_type": "markdown",
   "metadata": {},
   "source": [
    "## Python Libraries"
   ]
  },
  {
   "cell_type": "code",
   "execution_count": 2,
   "metadata": {},
   "outputs": [],
   "source": [
    "import json\n",
    "\n",
    "from IPython.display import Image\n",
    "import requests"
   ]
  },
  {
   "cell_type": "markdown",
   "metadata": {},
   "source": [
    "## Python Environment"
   ]
  },
  {
   "cell_type": "markdown",
   "metadata": {},
   "source": [
    "There's a bit of work to do to get your Python environment set up.\n",
    "\n",
    "1. Open the `src/` folder in PyCharm.\n",
    "2. Follow [these instructions](https://www.jetbrains.com/help/pycharm/creating-virtual-environment.html#python_create_virtual_env) to set up a virtual environment. This'll give us an blank, isolated environment for packages that we install. It's fine to use the `Virtualenv Environment` tab.\n",
    "3. Open the Terminal in PyCharm. Make sure your virtual environment is active (you'll probably see `(venv)` somewhere).\n",
    "4. Run `pip install -r requirements.txt`. `requirements.txt` contains all the packages that the project needs, such as `pymysql`.\n",
    "5. Run `pip install -e .` (including the period). This installs the `db/`, `models/`, and `resources/` directories as packages so we can easily import them. You'll see a new folder created called `local.egg-info`. You can ignore it."
   ]
  },
  {
   "cell_type": "markdown",
   "metadata": {},
   "source": [
    "<hr style=\"height:2px;\">"
   ]
  },
  {
   "cell_type": "markdown",
   "metadata": {},
   "source": [
    "# Load Data"
   ]
  },
  {
   "cell_type": "markdown",
   "metadata": {},
   "source": [
    "We're going to use data from the `db_book` database you created in HW0. Since you'll be inserting and deleting data in this assignment, let's create a copy that you can freely modify.\n",
    "\n",
    "In the HW folder, you'll find `hw1-book-DDL.sql` and `hw1-book-smallRelationsInsertFile.sql`. Run these files. They'll create a new schema called `db_book_hw1` that looks exactly like `db_book`.\n",
    "\n",
    "We'll only be using the `student` relation."
   ]
  },
  {
   "cell_type": "markdown",
   "metadata": {},
   "source": [
    "<hr style=\"height:2px;\">"
   ]
  },
  {
   "cell_type": "markdown",
   "metadata": {},
   "source": [
    "# Student API"
   ]
  },
  {
   "cell_type": "markdown",
   "metadata": {},
   "source": [
    "For this assignment, you'll create an API that allows users to [read, create, update, and delete](https://en.wikipedia.org/wiki/Create,_read,_update_and_delete) students. Your API serves as the layer between clients and the database. By the end, you should be able to interact with the database by calling your API's endpoints.\n",
    "\n",
    "The `src/` directory has the following structure:\n",
    "\n",
    "```\n",
    "src\n",
    "|\n",
    "|- db\n",
    "|\n",
    "|- models\n",
    "|\n",
    "|- resources\n",
    "```\n",
    "\n",
    "We'll go through each directory below."
   ]
  },
  {
   "cell_type": "markdown",
   "metadata": {},
   "source": [
    "## Models"
   ]
  },
  {
   "cell_type": "markdown",
   "metadata": {},
   "source": [
    "In `models/`, you'll find a file called `models.py`. This file contains class definitions for `Student`. This represents the `student` in `db_book_hw1`. When you query data from your database, the data should fit in this class.\n",
    "\n",
    "Why do we need a model? Models allow us to represent SQL data structures as Python classes. We can then treat them like any normal class. Models also allow us to do data validation, such as type checking.\n",
    "\n",
    "Notice how `dept_name` and `tot_cred` are of type `Optional` (meaning they can be `None`), while `ID` and `name` are not. **Based on the DDL of `student`, why is this?**"
   ]
  },
  {
   "cell_type": "markdown",
   "metadata": {},
   "source": [
    "<i> ID is the primary key of this table so it cannot be null, and name is set to be \"varchar(20) not null\" in the DDL. The other two variables don't have these constraints. </i>"
   ]
  },
  {
   "cell_type": "markdown",
   "metadata": {},
   "source": [
    "## DB"
   ]
  },
  {
   "cell_type": "markdown",
   "metadata": {},
   "source": [
    "The `db/` directory contains a file named `db.py`. This file defines a `DB` class, which is responsible for creating the database connection and running queries against it.\n",
    "\n",
    "The `execute_query` method takes in a `query` string and `args` list. You may wonder why we need `args`. The reason is that `query` can contain `%s` placeholders (think format strings in C). For instance, `query` may look like\n",
    "\n",
    "```\n",
    "SELECT * FROM student WHERE name = %s AND tot_cred = %s\n",
    "```\n",
    "\n",
    "In this case, `args` should be a list of length 2 (for the 2 placeholders). When the query is executed, the placeholders are replaced.\n",
    "\n",
    "Why do we need placeholders in the first place? One reason is to avoid having to worry about extra quotation marks. For instance, if `args` is `[\"Joe\", 10]`, then the executed query would look like\n",
    "\n",
    "```\n",
    "SELECT * FROM student WHERE name = \"Joe\" AND tot_cred = 10\n",
    "```\n",
    "\n",
    "Note that `Joe` is wrapped in quotes (since it's a string) while `10` is not (since it's a number). You could definitely do type checking in Python and add quotes yourself, but why do extra work?\n",
    "\n",
    "**Your task is to implement 8 methods: `build_select_query`, `select`, `build_insert_query`, `insert`, `build_update_query`, `update`, `build_delete_query`, and `delete`.**"
   ]
  },
  {
   "cell_type": "markdown",
   "metadata": {},
   "source": [
    "## DB Testing"
   ]
  },
  {
   "cell_type": "markdown",
   "metadata": {},
   "source": [
    "To test your `build_*` methods, run the `db_test.py` file. This file defines some unit tests. **Post a screenshot of your successful tests below.**"
   ]
  },
  {
   "cell_type": "code",
   "execution_count": 3,
   "metadata": {},
   "outputs": [
    {
     "data": {
      "image/png": "[encoded data removed]",
      "text/plain": [
       "<IPython.core.display.Image object>"
      ]
     },
     "execution_count": 3,
     "metadata": {},
     "output_type": "execute_result"
    }
   ],
   "source": [
    "Image(\"./db_test_pass.png\")"
   ]
  },
  {
   "cell_type": "markdown",
   "metadata": {},
   "source": [
    "## Resources"
   ]
  },
  {
   "cell_type": "markdown",
   "metadata": {},
   "source": [
    "In `resources/`, you should find `studentresource.py`. This file contains student-specific logic for interacting with the database.\n",
    "\n",
    "**Your task is to implement 4 methods: `get_by_id`, `create`, `update`, and `delete`.** The `get_all` method has been completed for your reference. **You should not be constructing your own queries in the methods**; instead, call the database methods you defined in `db.py`."
   ]
  },
  {
   "cell_type": "markdown",
   "metadata": {},
   "source": [
    "## main"
   ]
  },
  {
   "cell_type": "markdown",
   "metadata": {},
   "source": [
    "The top level directory contains a `main.py` file. This file declares our API and defines paths for it. The `@app` decorator above each method describes the HTTP method and the path associated with that method.\n",
    "\n",
    "**Your task is to implement 4 methods: `get_student`, `post_student`, `put_student`, and `delete_student`. The `get_students` method has been completed for your reference.** Since we don't have much extra business logic, your methods should not be that long."
   ]
  },
  {
   "cell_type": "markdown",
   "metadata": {},
   "source": [
    "<hr style=\"height:2px;\">"
   ]
  },
  {
   "cell_type": "markdown",
   "metadata": {},
   "source": [
    "# Testing Your API"
   ]
  },
  {
   "cell_type": "markdown",
   "metadata": {},
   "source": [
    "With your API running, execute the following cell."
   ]
  },
  {
   "cell_type": "code",
   "execution_count": 4,
   "metadata": {},
   "outputs": [],
   "source": [
    "BASE_URL = \"http://localhost:8002/\"\n",
    "\n",
    "def print_json(j):\n",
    "    print(json.dumps(j, indent=2))"
   ]
  },
  {
   "cell_type": "code",
   "execution_count": 5,
   "metadata": {},
   "outputs": [
    {
     "name": "stdout",
     "output_type": "stream",
     "text": [
      "\"I'm alive!\"\n"
     ]
    }
   ],
   "source": [
    "# Healthcheck\n",
    "\n",
    "r = requests.get(BASE_URL)\n",
    "j = r.json()\n",
    "print_json(j)"
   ]
  },
  {
   "cell_type": "code",
   "execution_count": 6,
   "metadata": {},
   "outputs": [
    {
     "name": "stdout",
     "output_type": "stream",
     "text": [
      "[\n",
      "  {\n",
      "    \"ID\": 128,\n",
      "    \"name\": \"Zhang\",\n",
      "    \"dept_name\": \"Comp. Sci.\",\n",
      "    \"tot_cred\": 102\n",
      "  },\n",
      "  {\n",
      "    \"ID\": 12345,\n",
      "    \"name\": \"Shankar\",\n",
      "    \"dept_name\": \"Comp. Sci.\",\n",
      "    \"tot_cred\": 32\n",
      "  },\n",
      "  {\n",
      "    \"ID\": 19991,\n",
      "    \"name\": \"Brandt\",\n",
      "    \"dept_name\": \"History\",\n",
      "    \"tot_cred\": 80\n",
      "  },\n",
      "  {\n",
      "    \"ID\": 23121,\n",
      "    \"name\": \"Chavez\",\n",
      "    \"dept_name\": \"Finance\",\n",
      "    \"tot_cred\": 110\n",
      "  },\n",
      "  {\n",
      "    \"ID\": 44553,\n",
      "    \"name\": \"Peltier\",\n",
      "    \"dept_name\": \"Physics\",\n",
      "    \"tot_cred\": 56\n",
      "  },\n",
      "  {\n",
      "    \"ID\": 45678,\n",
      "    \"name\": \"Levy\",\n",
      "    \"dept_name\": \"Physics\",\n",
      "    \"tot_cred\": 46\n",
      "  },\n",
      "  {\n",
      "    \"ID\": 54321,\n",
      "    \"name\": \"Williams\",\n",
      "    \"dept_name\": \"Comp. Sci.\",\n",
      "    \"tot_cred\": 54\n",
      "  },\n",
      "  {\n",
      "    \"ID\": 55739,\n",
      "    \"name\": \"Sanchez\",\n",
      "    \"dept_name\": \"Music\",\n",
      "    \"tot_cred\": 38\n",
      "  },\n",
      "  {\n",
      "    \"ID\": 70557,\n",
      "    \"name\": \"Snow\",\n",
      "    \"dept_name\": \"Physics\",\n",
      "    \"tot_cred\": 0\n",
      "  },\n",
      "  {\n",
      "    \"ID\": 76543,\n",
      "    \"name\": \"Brown\",\n",
      "    \"dept_name\": \"Comp. Sci.\",\n",
      "    \"tot_cred\": 58\n",
      "  },\n",
      "  {\n",
      "    \"ID\": 76653,\n",
      "    \"name\": \"Aoi\",\n",
      "    \"dept_name\": \"Elec. Eng.\",\n",
      "    \"tot_cred\": 60\n",
      "  },\n",
      "  {\n",
      "    \"ID\": 98765,\n",
      "    \"name\": \"Bourikas\",\n",
      "    \"dept_name\": \"Elec. Eng.\",\n",
      "    \"tot_cred\": 98\n",
      "  },\n",
      "  {\n",
      "    \"ID\": 98988,\n",
      "    \"name\": \"Tanaka\",\n",
      "    \"dept_name\": \"Biology\",\n",
      "    \"tot_cred\": 120\n",
      "  }\n",
      "]\n"
     ]
    }
   ],
   "source": [
    "# Get all students\n",
    "\n",
    "r = requests.get(BASE_URL + \"students\")\n",
    "j = r.json()\n",
    "n = len(j)\n",
    "print_json(j)"
   ]
  },
  {
   "cell_type": "code",
   "execution_count": 7,
   "metadata": {},
   "outputs": [
    {
     "name": "stdout",
     "output_type": "stream",
     "text": [
      "1\n"
     ]
    }
   ],
   "source": [
    "# Create a new student\n",
    "\n",
    "or_student = {\n",
    "    \"ID\": 100,\n",
    "    \"name\": \"Olivia\",\n",
    "    \"dept_name\": \"Music\",\n",
    "    \"tot_cred\": 100,\n",
    "}\n",
    "r = requests.post(BASE_URL + \"students\", json=or_student)\n",
    "j = r.json()\n",
    "print_json(j)\n",
    "\n",
    "assert j == 1"
   ]
  },
  {
   "cell_type": "code",
   "execution_count": 8,
   "metadata": {},
   "outputs": [
    {
     "name": "stdout",
     "output_type": "stream",
     "text": [
      "{\n",
      "  \"ID\": 100,\n",
      "  \"name\": \"Olivia\",\n",
      "  \"dept_name\": \"Music\",\n",
      "  \"tot_cred\": 100\n",
      "}\n"
     ]
    }
   ],
   "source": [
    "# Get that new student\n",
    "\n",
    "r = requests.get(BASE_URL + \"students/100\")\n",
    "\n",
    "j = r.json()\n",
    "print_json(j)\n",
    "\n",
    "assert j == or_student"
   ]
  },
  {
   "cell_type": "code",
   "execution_count": 9,
   "metadata": {},
   "outputs": [
    {
     "name": "stdout",
     "output_type": "stream",
     "text": [
      "[\n",
      "  {\n",
      "    \"ID\": 100,\n",
      "    \"name\": \"Olivia\",\n",
      "    \"dept_name\": \"Music\",\n",
      "    \"tot_cred\": 100\n",
      "  }\n",
      "]\n"
     ]
    }
   ],
   "source": [
    "r = requests.get(BASE_URL + \"students?tot_cred=100\")\n",
    "print_json(r.json())"
   ]
  },
  {
   "cell_type": "code",
   "execution_count": 10,
   "metadata": {},
   "outputs": [
    {
     "name": "stdout",
     "output_type": "stream",
     "text": [
      "1\n"
     ]
    }
   ],
   "source": [
    "# Update the student\n",
    "\n",
    "r = requests.put(BASE_URL + \"students/100\", json={\"tot_cred\": 105})\n",
    "j = r.json()\n",
    "print_json(j)\n",
    "\n",
    "assert j == 1\n",
    "or_student[\"tot_cred\"] = 105"
   ]
  },
  {
   "cell_type": "code",
   "execution_count": 11,
   "metadata": {},
   "outputs": [
    {
     "name": "stdout",
     "output_type": "stream",
     "text": [
      "{\n",
      "  \"ID\": 100,\n",
      "  \"name\": \"Olivia\",\n",
      "  \"dept_name\": \"Music\",\n",
      "  \"tot_cred\": 105\n",
      "}\n"
     ]
    }
   ],
   "source": [
    "# Get that student\n",
    "\n",
    "r = requests.get(BASE_URL + \"students/100\")\n",
    "j = r.json()\n",
    "print_json(j)\n",
    "\n",
    "assert j == or_student"
   ]
  },
  {
   "cell_type": "code",
   "execution_count": 12,
   "metadata": {},
   "outputs": [
    {
     "name": "stdout",
     "output_type": "stream",
     "text": [
      "[\n",
      "  {\n",
      "    \"ID\": 100,\n",
      "    \"name\": \"Olivia\",\n",
      "    \"dept_name\": \"Music\",\n",
      "    \"tot_cred\": 105\n",
      "  }\n",
      "]\n"
     ]
    }
   ],
   "source": [
    "r = requests.get(BASE_URL + \"students?tot_cred=105\")\n",
    "print_json(r.json())"
   ]
  },
  {
   "cell_type": "code",
   "execution_count": 13,
   "metadata": {},
   "outputs": [
    {
     "name": "stdout",
     "output_type": "stream",
     "text": [
      "1\n"
     ]
    }
   ],
   "source": [
    "# Delete the student\n",
    "\n",
    "r = requests.delete(BASE_URL + \"students/100\")\n",
    "j = r.json()\n",
    "print_json(j)\n",
    "\n",
    "assert j == 1"
   ]
  },
  {
   "cell_type": "code",
   "execution_count": 14,
   "metadata": {},
   "outputs": [
    {
     "name": "stdout",
     "output_type": "stream",
     "text": [
      "null\n"
     ]
    }
   ],
   "source": [
    "# This should return null\n",
    "\n",
    "r = requests.get(BASE_URL + \"students/100\")\n",
    "j = r.json()\n",
    "print_json(j)\n",
    "\n",
    "assert j is None"
   ]
  },
  {
   "cell_type": "code",
   "execution_count": 15,
   "metadata": {},
   "outputs": [
    {
     "name": "stdout",
     "output_type": "stream",
     "text": [
      "[\n",
      "  {\n",
      "    \"ID\": 128,\n",
      "    \"name\": \"Zhang\",\n",
      "    \"dept_name\": \"Comp. Sci.\",\n",
      "    \"tot_cred\": 102\n",
      "  },\n",
      "  {\n",
      "    \"ID\": 12345,\n",
      "    \"name\": \"Shankar\",\n",
      "    \"dept_name\": \"Comp. Sci.\",\n",
      "    \"tot_cred\": 32\n",
      "  },\n",
      "  {\n",
      "    \"ID\": 19991,\n",
      "    \"name\": \"Brandt\",\n",
      "    \"dept_name\": \"History\",\n",
      "    \"tot_cred\": 80\n",
      "  },\n",
      "  {\n",
      "    \"ID\": 23121,\n",
      "    \"name\": \"Chavez\",\n",
      "    \"dept_name\": \"Finance\",\n",
      "    \"tot_cred\": 110\n",
      "  },\n",
      "  {\n",
      "    \"ID\": 44553,\n",
      "    \"name\": \"Peltier\",\n",
      "    \"dept_name\": \"Physics\",\n",
      "    \"tot_cred\": 56\n",
      "  },\n",
      "  {\n",
      "    \"ID\": 45678,\n",
      "    \"name\": \"Levy\",\n",
      "    \"dept_name\": \"Physics\",\n",
      "    \"tot_cred\": 46\n",
      "  },\n",
      "  {\n",
      "    \"ID\": 54321,\n",
      "    \"name\": \"Williams\",\n",
      "    \"dept_name\": \"Comp. Sci.\",\n",
      "    \"tot_cred\": 54\n",
      "  },\n",
      "  {\n",
      "    \"ID\": 55739,\n",
      "    \"name\": \"Sanchez\",\n",
      "    \"dept_name\": \"Music\",\n",
      "    \"tot_cred\": 38\n",
      "  },\n",
      "  {\n",
      "    \"ID\": 70557,\n",
      "    \"name\": \"Snow\",\n",
      "    \"dept_name\": \"Physics\",\n",
      "    \"tot_cred\": 0\n",
      "  },\n",
      "  {\n",
      "    \"ID\": 76543,\n",
      "    \"name\": \"Brown\",\n",
      "    \"dept_name\": \"Comp. Sci.\",\n",
      "    \"tot_cred\": 58\n",
      "  },\n",
      "  {\n",
      "    \"ID\": 76653,\n",
      "    \"name\": \"Aoi\",\n",
      "    \"dept_name\": \"Elec. Eng.\",\n",
      "    \"tot_cred\": 60\n",
      "  },\n",
      "  {\n",
      "    \"ID\": 98765,\n",
      "    \"name\": \"Bourikas\",\n",
      "    \"dept_name\": \"Elec. Eng.\",\n",
      "    \"tot_cred\": 98\n",
      "  },\n",
      "  {\n",
      "    \"ID\": 98988,\n",
      "    \"name\": \"Tanaka\",\n",
      "    \"dept_name\": \"Biology\",\n",
      "    \"tot_cred\": 120\n",
      "  }\n",
      "]\n"
     ]
    }
   ],
   "source": [
    "# Get all students\n",
    "\n",
    "r = requests.get(BASE_URL + \"students\")\n",
    "j = r.json()\n",
    "print_json(j)\n",
    "\n",
    "assert len(j) == n"
   ]
  },
  {
   "cell_type": "code",
   "execution_count": null,
   "metadata": {},
   "outputs": [],
   "source": []
  }
 ],
 "metadata": {
  "kernelspec": {
   "display_name": "Python 3 (ipykernel)",
   "language": "python",
   "name": "python3"
  },
  "language_info": {
   "codemirror_mode": {
    "name": "ipython",
    "version": 3
   },
   "file_extension": ".py",
   "mimetype": "text/x-python",
   "name": "python",
   "nbconvert_exporter": "python",
   "pygments_lexer": "ipython3",
   "version": "3.10.13"
  }
 },
 "nbformat": 4,
 "nbformat_minor": 2
}
